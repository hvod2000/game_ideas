{
 "cells": [
  {
   "cell_type": "code",
   "execution_count": null,
   "metadata": {},
   "outputs": [],
   "source": [
    "sh, ch = sinh, cosh"
   ]
  },
  {
   "cell_type": "code",
   "execution_count": null,
   "metadata": {},
   "outputs": [],
   "source": [
    "α, β = var(\"α β\") # damage per health point of the attacker\n",
    "λ, μ = var(\"λ μ\") # supportive damage that does not depend on health of the attacker\n",
    "a, b = var(\"a b\") # health points of both teams at start of fight"
   ]
  },
  {
   "cell_type": "code",
   "execution_count": null,
   "metadata": {},
   "outputs": [],
   "source": [
    "A(t) = (a + λ/α)*ch(t*sqrt(α*β)) - (b*sqrt(β/α)+μ/sqrt(α*β))*sh(t*sqrt(α*β)) - λ/α\n",
    "B(t) = (b + μ/β)*ch(t*sqrt(α*β)) - (a*sqrt(α/β)+λ/sqrt(α*β))*sh(t*sqrt(α*β)) - μ/β"
   ]
  },
  {
   "cell_type": "code",
   "execution_count": null,
   "metadata": {},
   "outputs": [],
   "source": [
    "A(t).expand().show()"
   ]
  },
  {
   "cell_type": "code",
   "execution_count": null,
   "metadata": {},
   "outputs": [],
   "source": [
    "A(t).show()"
   ]
  },
  {
   "cell_type": "code",
   "execution_count": null,
   "metadata": {
    "scrolled": false
   },
   "outputs": [],
   "source": [
    "A(t).simplify_full().show()"
   ]
  },
  {
   "cell_type": "code",
   "execution_count": null,
   "metadata": {},
   "outputs": [],
   "source": [
    "def parse_assignments(assignments):\n",
    "    params = [(str(e.left()), e.right()) for e in assignments]\n",
    "    return [value for name, value in sorted(params)]"
   ]
  },
  {
   "cell_type": "code",
   "execution_count": null,
   "metadata": {},
   "outputs": [],
   "source": [
    "def solution(*params):\n",
    "    a, b, α, β, λ, μ = parse_assignments(params)\n",
    "    if μ > 0 and λ > 0:\n",
    "        raise NotImplementedError(\"Can't solve with both μ and λ not equal to zero\")\n",
    "    if μ > 0:\n",
    "        a, b = b, a\n",
    "        α, β = β, α\n",
    "        λ, μ = μ, λ\n",
    "    A, B = a * sqrt(α), b * sqrt(β)\n",
    "    A_full_power = (A + λ/sqrt(α))^2 - λ^2/α\n",
    "    B_full_power = (B)^2\n",
    "    if B_full_power <= A_full_power:\n",
    "        print(\"population case 1\")\n",
    "        return a/A * sqrt((A+λ*a/A)^2 - B^2) - λ/α\n",
    "    print(\"population case 2\")\n",
    "    return b/B * sqrt(B^2 + λ/α^2 - (A+λ/α)^2)\n",
    "    return b/B*sqrt(B^2 - (A+λ*a/A)^2)"
   ]
  },
  {
   "cell_type": "code",
   "execution_count": null,
   "metadata": {},
   "outputs": [],
   "source": [
    "def get_death_time(*pamars):\n",
    "    a, b, α, β, λ, μ = parse_assignments(params)\n",
    "    if μ > 0 and λ > 0:\n",
    "        raise NotImplementedError(\"Can't solve with both μ and λ not equal to zero\")\n",
    "    if μ > 0:\n",
    "        a, b = b, a\n",
    "        α, β = β, α\n",
    "        λ, μ = μ, λ\n",
    "    A, B = a * sqrt(α), b * sqrt(β)\n",
    "    #if A + λ*a/A > B:\n",
    "    D = (λ^2*a^4 + B^2*a^2*A^2 - A^4*(a + λ*a^2/A^2)^2)\n",
    "    A_full_power = (A + λ/sqrt(α))^2 - λ^2/α\n",
    "    B_full_power = (B)^2\n",
    "    assert D == (B_full_power - A_full_power) * A^2*a^2\n",
    "    if A_full_power >= B_full_power:\n",
    "        print(\"death case 1\")\n",
    "        X = (A^2 + λ*a + A*B) / (A^2 + λ*a - A*B)\n",
    "        x = float(sqrt(float(X)))\n",
    "        return ln(x) / sqrt(α*β)\n",
    "    print(\"death case 2\")\n",
    "    x = (sqrt(D) - λ*a^2) / (B*a*A - (a*A^2 + λ*a^2))\n",
    "    return ln(x) / sqrt(α*β)"
   ]
  },
  {
   "cell_type": "code",
   "execution_count": null,
   "metadata": {},
   "outputs": [],
   "source": [
    "from random import randint as r\n",
    "n = 5\n",
    "params = [a==r(1, n), α==r(1, n), λ==r(1, n), b==r(1, n), β==r(1, n), μ==0]\n",
    "print(params)\n",
    "death = float(get_death_time(*params))\n",
    "population = float(solution(*params))\n",
    "span = (t, 0, death * 2)\n",
    "sum([plot(solution(*params), span, color=\"purple\"),\n",
    "     line([(death, 0), (death, population)], color=\"purple\"),\n",
    "     plot(A.substitute(*params), span, color=\"red\"),\n",
    "     plot(B.substitute(*params), span, color=\"blue\")])"
   ]
  },
  {
   "cell_type": "code",
   "execution_count": null,
   "metadata": {},
   "outputs": [],
   "source": [
    "sum([plot(diff(A, t).substitute(*params), span, color=\"blue\"),\n",
    "     plot(diff(B, t).substitute(*params), span, color=\"red\")])"
   ]
  },
  {
   "cell_type": "code",
   "execution_count": null,
   "metadata": {},
   "outputs": [],
   "source": [
    "A(t)"
   ]
  },
  {
   "cell_type": "code",
   "execution_count": null,
   "metadata": {},
   "outputs": [],
   "source": [
    "Ax = (a + λ/α)*(x + 1/x)/2 - (b*sqrt(β/α) + μ/sqrt(α*β))*(x-1/x)/2 - λ/α\n",
    "Bx = (b + μ/β)*(x+1/x)/2- (a*sqrt(α/β) + λ/sqrt(α*β))*(x-1/x)/2 - μ/β\n",
    "solutions = solve(Ax == 0, x)\n",
    "solutions"
   ]
  },
  {
   "cell_type": "code",
   "execution_count": null,
   "metadata": {},
   "outputs": [],
   "source": [
    "bool((Ax.substitute(solutions[0]) == 0).expand())"
   ]
  },
  {
   "cell_type": "code",
   "execution_count": null,
   "metadata": {},
   "outputs": [],
   "source": [
    "# general case \n",
    "for solution in solutions:\n",
    "    solution.show()"
   ]
  },
  {
   "cell_type": "code",
   "execution_count": null,
   "metadata": {},
   "outputs": [],
   "source": [
    "# special case with zero support \n",
    "for solution in solutions:\n",
    "    solution.substitute(λ==0, μ==0).show()"
   ]
  },
  {
   "cell_type": "code",
   "execution_count": null,
   "metadata": {},
   "outputs": [],
   "source": [
    "(symbolic_expression(\"B\") == Bx.substitute(solutions[0]).substitute(λ==0, μ==0).expand().simplify_full()).show()\n",
    "(symbolic_expression(\"B\") == b * sqrt(1 - (α*a^2)/(β*b^2))).show()"
   ]
  },
  {
   "cell_type": "code",
   "execution_count": null,
   "metadata": {},
   "outputs": [],
   "source": [
    "((Bx.substitute(solutions[0]).substitute(λ == 0, μ == 0).expand().simplify_full() ^ 2\n",
    "    == (b * sqrt(1 - (α * a ^ 2) / (β * b ^ 2))) ^ 2)\n",
    "    .expand().simplify_full().show())"
   ]
  },
  {
   "cell_type": "code",
   "execution_count": null,
   "metadata": {},
   "outputs": [],
   "source": [
    "(Ax.substitute(solutions[0]) == Ax.substitute(solutions[0]).simplify_full()).show()"
   ]
  },
  {
   "cell_type": "code",
   "execution_count": null,
   "metadata": {},
   "outputs": [],
   "source": [
    "B(t)"
   ]
  },
  {
   "cell_type": "code",
   "execution_count": null,
   "metadata": {},
   "outputs": [],
   "source": [
    "Bx = (b + μ/β)*(x+1/x)/2- (a*sqrt(α/β) + λ/sqrt(α*β))*(x-1/x)/2 - μ/β"
   ]
  },
  {
   "cell_type": "code",
   "execution_count": null,
   "metadata": {},
   "outputs": [],
   "source": [
    "Bx.substitute(solutions[0]).expand().show()"
   ]
  },
  {
   "cell_type": "code",
   "execution_count": null,
   "metadata": {},
   "outputs": [],
   "source": []
  }
 ],
 "metadata": {
  "kernelspec": {
   "display_name": "SageMath 9.6",
   "language": "sage",
   "name": "sagemath"
  },
  "language_info": {
   "codemirror_mode": {
    "name": "ipython",
    "version": 3
   },
   "file_extension": ".py",
   "mimetype": "text/x-python",
   "name": "python",
   "nbconvert_exporter": "python",
   "pygments_lexer": "ipython3",
   "version": "3.10.5"
  }
 },
 "nbformat": 4,
 "nbformat_minor": 5
}
