{
 "cells": [
  {
   "cell_type": "code",
   "execution_count": null,
   "metadata": {},
   "outputs": [],
   "source": [
    "sh, ch = sinh, cosh"
   ]
  },
  {
   "cell_type": "code",
   "execution_count": null,
   "metadata": {},
   "outputs": [],
   "source": [
    "α, β = var(\"α β\") # damage per health point of the attacker\n",
    "λ, μ = var(\"λ μ\") # supportive damage that does not depend on health of the attacker\n",
    "a, b = var(\"a b\") # health points of both teams at start of fight"
   ]
  },
  {
   "cell_type": "code",
   "execution_count": null,
   "metadata": {},
   "outputs": [],
   "source": [
    "A(t) = (a + λ/α)*ch(t*sqrt(α*β)) - (b*sqrt(β/α)+μ/sqrt(α*β))*sh(t*sqrt(α*β)) - λ/α\n",
    "B(t) = (b + μ/β)*ch(t*sqrt(α*β)) - (a*sqrt(α/β)+λ/sqrt(α*β))*sh(t*sqrt(α*β)) - μ/β"
   ]
  },
  {
   "cell_type": "code",
   "execution_count": null,
   "metadata": {},
   "outputs": [],
   "source": [
    "A(t).expand().show()"
   ]
  },
  {
   "cell_type": "code",
   "execution_count": null,
   "metadata": {},
   "outputs": [],
   "source": [
    "A(t).show()"
   ]
  },
  {
   "cell_type": "code",
   "execution_count": null,
   "metadata": {},
   "outputs": [],
   "source": [
    "A(t).simplify_full().show()"
   ]
  },
  {
   "cell_type": "code",
   "execution_count": null,
   "metadata": {},
   "outputs": [],
   "source": [
    "params = [a==100, α==0.01, λ==1, b==100, β==0.01, μ==0]\n",
    "span = (t, 55, 61)\n",
    "sum([plot(A.substitute(*params), span, color=\"blue\"),\n",
    "     plot(B.substitute(*params), span, color=\"red\")])"
   ]
  },
  {
   "cell_type": "code",
   "execution_count": null,
   "metadata": {},
   "outputs": [],
   "source": [
    "sum([plot(diff(A, t).substitute(*params), span, color=\"blue\"),\n",
    "     plot(diff(B, t).substitute(*params), span, color=\"red\")])"
   ]
  },
  {
   "cell_type": "code",
   "execution_count": null,
   "metadata": {},
   "outputs": [],
   "source": [
    "A(t)"
   ]
  },
  {
   "cell_type": "code",
   "execution_count": null,
   "metadata": {},
   "outputs": [],
   "source": [
    "Ax = (a + λ/α)*(x + 1/x)/2 - (b*sqrt(β/α) + μ/sqrt(α*β))*(x-1/x)/2 - λ/α\n",
    "Bx = (b + μ/β)*(x+1/x)/2- (a*sqrt(α/β) + λ/sqrt(α*β))*(x-1/x)/2 - μ/β\n",
    "solutions = solve(Ax == 0, x)\n",
    "solutions"
   ]
  },
  {
   "cell_type": "code",
   "execution_count": null,
   "metadata": {},
   "outputs": [],
   "source": [
    "bool((Ax.substitute(solutions[0]) == 0).expand())"
   ]
  },
  {
   "cell_type": "code",
   "execution_count": null,
   "metadata": {},
   "outputs": [],
   "source": [
    "# general case \n",
    "for solution in solutions:\n",
    "    solution.show()"
   ]
  },
  {
   "cell_type": "code",
   "execution_count": null,
   "metadata": {},
   "outputs": [],
   "source": [
    "# special case with zero support \n",
    "for solution in solutions:\n",
    "    solution.substitute(λ==0, μ==0).show()"
   ]
  },
  {
   "cell_type": "code",
   "execution_count": null,
   "metadata": {},
   "outputs": [],
   "source": [
    "(symbolic_expression(\"B\") == Bx.substitute(solutions[0]).substitute(λ==0, μ==0).expand().simplify_full()).show()\n",
    "(symbolic_expression(\"B\") == b * sqrt(1 - (α*a^2)/(β*b^2))).show()"
   ]
  },
  {
   "cell_type": "code",
   "execution_count": null,
   "metadata": {},
   "outputs": [],
   "source": [
    "((Bx.substitute(solutions[0]).substitute(λ == 0, μ == 0).expand().simplify_full() ^ 2\n",
    "    == (b * sqrt(1 - (α * a ^ 2) / (β * b ^ 2))) ^ 2)\n",
    "    .expand().simplify_full().show())"
   ]
  },
  {
   "cell_type": "code",
   "execution_count": null,
   "metadata": {},
   "outputs": [],
   "source": [
    "(Ax.substitute(solutions[0]) == Ax.substitute(solutions[0]).simplify_full()).show()"
   ]
  },
  {
   "cell_type": "code",
   "execution_count": null,
   "metadata": {},
   "outputs": [],
   "source": [
    "B(t)"
   ]
  },
  {
   "cell_type": "code",
   "execution_count": null,
   "metadata": {},
   "outputs": [],
   "source": [
    "Bx = (b + μ/β)*(x+1/x)/2- (a*sqrt(α/β) + λ/sqrt(α*β))*(x-1/x)/2 - μ/β"
   ]
  },
  {
   "cell_type": "code",
   "execution_count": null,
   "metadata": {},
   "outputs": [],
   "source": [
    "Bx.substitute(solutions[0]).expand().show()"
   ]
  },
  {
   "cell_type": "code",
   "execution_count": null,
   "metadata": {},
   "outputs": [],
   "source": []
  }
 ],
 "metadata": {
  "kernelspec": {
   "display_name": "SageMath 9.6",
   "language": "sage",
   "name": "sagemath"
  },
  "language_info": {
   "codemirror_mode": {
    "name": "ipython",
    "version": 3
   },
   "file_extension": ".py",
   "mimetype": "text/x-python",
   "name": "python",
   "nbconvert_exporter": "python",
   "pygments_lexer": "ipython3",
   "version": "3.10.5"
  }
 },
 "nbformat": 4,
 "nbformat_minor": 5
}
