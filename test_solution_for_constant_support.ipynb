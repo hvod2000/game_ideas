{
 "cells": [
  {
   "cell_type": "code",
   "execution_count": null,
   "metadata": {},
   "outputs": [],
   "source": [
    "sh, ch = sinh, cosh"
   ]
  },
  {
   "cell_type": "code",
   "execution_count": null,
   "metadata": {},
   "outputs": [],
   "source": [
    "α, β = var(\"α β\") # damage per health point of the attacker\n",
    "λ, μ = var(\"λ μ\") # supportive damage that does not depend on health of the attacker\n",
    "a, b = var(\"a b\") # health points of both teams at start of fight"
   ]
  },
  {
   "cell_type": "code",
   "execution_count": null,
   "metadata": {},
   "outputs": [],
   "source": [
    "A(t) = (a + λ/α)*ch(t*sqrt(α*β)) - (b*sqrt(β/α)+μ/sqrt(α*β))*sh(t*sqrt(α*β)) - λ/α\n",
    "B(t) = (b + μ/β)*ch(t*sqrt(α*β)) - (a*sqrt(α/β)+λ/sqrt(α*β))*sh(t*sqrt(α*β)) - μ/β"
   ]
  },
  {
   "cell_type": "code",
   "execution_count": null,
   "metadata": {},
   "outputs": [],
   "source": [
    "A(t).expand().show()"
   ]
  },
  {
   "cell_type": "code",
   "execution_count": null,
   "metadata": {},
   "outputs": [],
   "source": [
    "A(t).show()"
   ]
  },
  {
   "cell_type": "code",
   "execution_count": null,
   "metadata": {
    "scrolled": false
   },
   "outputs": [],
   "source": [
    "A(t).simplify_full().show()"
   ]
  },
  {
   "cell_type": "code",
   "execution_count": null,
   "metadata": {},
   "outputs": [],
   "source": [
    "def parse_assignments(assignments):\n",
    "    params = [(str(e.left()), e.right()) for e in assignments]\n",
    "    return [value for name, value in sorted(params)]"
   ]
  },
  {
   "cell_type": "code",
   "execution_count": null,
   "metadata": {},
   "outputs": [],
   "source": [
    "def solution(*params):\n",
    "    a, b, α, β, λ, μ = parse_assignments(params)\n",
    "    if μ > 0 and λ > 0:\n",
    "        raise NotImplementedError(\"Can't solve with both μ and λ not equal to zero\")\n",
    "    if μ > 0:\n",
    "        a, b = b, a\n",
    "        α, β = β, α\n",
    "        λ, μ = μ, λ\n",
    "    A, B = a * sqrt(α), b * sqrt(β)\n",
    "    A_full_power = (A + λ/sqrt(α))^2 - λ^2/α\n",
    "    B_full_power = (B)^2\n",
    "    if B_full_power <= A_full_power:\n",
    "        print(\"population case 1\")\n",
    "        return a/A * sqrt((A+λ*a/A)^2 - B^2) - λ/α\n",
    "    print(\"population case 2\")\n",
    "    return sqrt(B^2 - (A+λ/sqrt(α))^2 + λ^2/α) / sqrt(β)"
   ]
  },
  {
   "cell_type": "code",
   "execution_count": null,
   "metadata": {},
   "outputs": [],
   "source": [
    "def get_death_time(*params):\n",
    "    a, b, α, β, λ, μ = parse_assignments(params)\n",
    "    if μ > 0 and λ > 0:\n",
    "        raise NotImplementedError(\"Can't solve with both μ and λ not equal to zero\")\n",
    "    if μ > 0:\n",
    "        a, b = b, a\n",
    "        α, β = β, α\n",
    "        λ, μ = μ, λ\n",
    "    A, B = a * sqrt(α), b * sqrt(β)\n",
    "    #if A + λ*a/A > B:\n",
    "    D = (λ^2*a^4 + B^2*a^2*A^2 - A^4*(a + λ*a^2/A^2)^2)\n",
    "    A_full_power = (A + λ/sqrt(α))^2 - λ^2/α\n",
    "    B_full_power = (B)^2\n",
    "    assert D == (B_full_power - A_full_power) * A^2*a^2\n",
    "    if A_full_power >= B_full_power:\n",
    "        print(\"death case 1\")\n",
    "        X = (A^2 + λ*a + A*B) / (A^2 + λ*a - A*B)\n",
    "        x = float(sqrt(float(X)))\n",
    "        return ln(x) / sqrt(α*β)\n",
    "    print(\"death case 2\")\n",
    "    x = (sqrt(D) - λ*a^2) / (B*a*A - (a*A^2 + λ*a^2))\n",
    "    return ln(x) / sqrt(α*β)"
   ]
  },
  {
   "cell_type": "code",
   "execution_count": null,
   "metadata": {},
   "outputs": [],
   "source": [
    "def solution2(*params):\n",
    "    a, b, α, β, λ, μ = parse_assignments(params)\n",
    "    if μ > 0 and λ > 0: raise NotImplementedError(\"Can't solve with both μ and λ not equal to zero\")\n",
    "    if μ > 0: a, b, α, β, λ, μ = b, a, β, α, μ, λ\n",
    "    A, B = a * sqrt(α), b * sqrt(β)\n",
    "    if B^2 <= (A + λ/sqrt(α))^2 - λ^2/α: return 0\n",
    "    D = (λ^2*a^4 + B^2*a^2*A^2 - A^4*(a + λ*a^2/A^2)^2)\n",
    "    x = exp(get_death_time(*params) * sqrt(α*β))\n",
    "    print(\"err(x) =\", float((sqrt(D)-λ*a^2)/(a*A*(B-A-λ/sqrt(α))) - x))\n",
    "    print(\"err(x) =\", float((sqrt(D)-λ*A^2/α)/(a*A*(B-A-λ/sqrt(α))) - x))\n",
    "    # CG5Z\n",
    "    return (sqrt(D)*sqrt(α)/A^2)/sqrt(β)\n",
    "    # 2206162251f5\n",
    "    t1 = (sqrt(D) - A^2)^2 / (a*A)^2 \n",
    "    t2 = a^2*A^2*(B^2-(A^+λ/sqrt(α))^2)^2 / (sqrt(D)-A^2)^2\n",
    "    t3 = 2*(B^2-(A+λ/sqrt(α))^2)\n",
    "    return sqrt(t1 + t2 + t3) / (2*sqrt(β))\n",
    "    # 2206162251f3\n",
    "    y = B*(x+1/x) - (A+λ/sqrt(α))*(x-1/x)\n",
    "    return y / (2*sqrt(β))\n",
    "    # 2206162251f9\n",
    "    n = 2*D - 2*sqrt(D)*A^2 + A^4 - A^4*λ^2/α^2\n",
    "    d = A^2/sqrt(α)*(sqrt(D) - A^2)\n",
    "    return n / d / (2 * sqrt(β))\n",
    "    # U59\n",
    "    y = (2*D-2*sqrt(D)*A^2 + A^4 - A^4*λ^2/α^2) / (A^2/sqrt(α) * (sqrt(D) - A^2))\n",
    "    return y/2/sqrt(β)\n",
    "    ω = B^2 + λ^2/α - (A+λ/sqrt(α))^2\n",
    "    y = sqrt(ω) + (α^2 - λ^2)/(2*α*(sqrt(ω) - sqrt(α)))\n",
    "    return y / sqrt(β)\n",
    "from random import randint as r"
   ]
  },
  {
   "cell_type": "code",
   "execution_count": null,
   "metadata": {},
   "outputs": [],
   "source": [
    "n = 100\n",
    "params = [a==r(1, n), α==r(1, n), λ==r(1, n), b==r(1, n), β==r(1, n), μ==0]\n",
    "#params = [a == 2, α == 1, λ == 2, b == 3, β == 3, μ == 0]\n",
    "print(params)\n",
    "death = float(get_death_time(*params))\n",
    "population = float(solution(*params))\n",
    "span = (t, 0, death * 2)\n",
    "sum([plot(solution(*params), span, color=\"purple\"),\n",
    "     line([(death, 0), (death, population)], color=\"purple\"),\n",
    "     plot(max(A.substitute(t==death, *params),\n",
    "              B.substitute(t==death, *params)), span, color=\"green\"),\n",
    "     #plot(solution2(*params), span, color=\"yellow\"),\n",
    "     plot(A.substitute(*params), span, color=\"red\"),\n",
    "     plot(B.substitute(*params), span, color=\"blue\")])"
   ]
  },
  {
   "cell_type": "markdown",
   "metadata": {},
   "source": [
    "$a$ - количество человеков в начале битвы\\\n",
    "$b$ - количество орков в начале битвы\\\n",
    "$α$ - скорость убивания орков человеками\\\n",
    "$β$ - скорость убивания человеков орками\\\n",
    "$λ$ - количество постоянно умирающих орков от молний человеческого мага\\\n",
    "$μ$ - количество постоянно умирающих людей от магии орчьего шамана\\\n",
    "$H$ - количество живых человеков в тот момент, когда человеки победят орков\n",
    "\n",
    "$$\n",
    "    H = \\frac{\\sqrt{{\\left(a α + 2 \\, λ\\right)} a - {\\left(b β + 2 \\, μ\\right)} b\n",
    "    + \\frac{λ^{2}}{α}}}{\\sqrt{α}} - \\frac{λ}{α}\n",
    "$$\n",
    "\n",
    "Люди побеждаю орков при условии, что\n",
    "$$\n",
    "    {\\left(a α + 2 \\, λ\\right)} a > {\\left(b β + 2 \\, μ\\right)} b\n",
    "$$\n",
    "Иначе орки убьють всех человеков."
   ]
  },
  {
   "cell_type": "code",
   "execution_count": null,
   "metadata": {},
   "outputs": [],
   "source": [
    "def get_general_solution_formula():\n",
    "    a, b, α, β, λ, μ = map(symbolic_expression, \"abαβλμ\")\n",
    "    if a*(a*α + 2*λ) < b*(b*β + 2*μ): a, b, α, β, λ, μ = b, a, β, α, μ, λ\n",
    "    A, B = a*(a*α + 2*λ), b*(b*β + 2*μ)\n",
    "    return sqrt(A - B + (λ/sqrt(α))^2)/sqrt(α) - λ/α\n",
    "e = get_general_solution_formula()\n",
    "show(e)\n",
    "#latex(e)"
   ]
  },
  {
   "cell_type": "code",
   "execution_count": null,
   "metadata": {},
   "outputs": [],
   "source": [
    "def solution_general(*params):\n",
    "    a, b, α, β, λ, μ = parse_assignments(params)\n",
    "    if a*(a*α + 2*λ) < b*(b*β + 2*μ): a, b, α, β, λ, μ = b, a, β, α, μ, λ\n",
    "    A, B = a*(a*α + 2*λ), b*(b*β + 2*μ)\n",
    "    return sqrt(A - B + (λ/sqrt(α))^2)/sqrt(α) - λ/α"
   ]
  },
  {
   "cell_type": "code",
   "execution_count": null,
   "metadata": {},
   "outputs": [],
   "source": [
    "def get_death_time_general(*params):\n",
    "    a, b, α, β, λ, μ = parse_assignments(params)\n",
    "    if a*(a*α + 2*λ) < b*(b*β + 2*μ): a, b, α, β, λ, μ = b, a, β, α, μ, λ\n",
    "    A, B = a*(a*α + 2*λ), b*(b*β + 2*μ)\n",
    "    n = sqrt(A - B + λ^2/α) - μ/sqrt(β)\n",
    "    d = (a*sqrt(α) + λ/sqrt(α)) - (b*sqrt(β)  + μ/sqrt(β))\n",
    "    return ln(n / d) / sqrt(α * β)"
   ]
  },
  {
   "cell_type": "code",
   "execution_count": null,
   "metadata": {},
   "outputs": [],
   "source": [
    "n = 100\n",
    "params = [a==r(1, n), α==r(1, n), λ==r(1, n), b==r(1, n), β==r(1, n), μ==r(1, n)]\n",
    "#params = [a == 3, α == 2, λ == 7, b == 3, β == 6, μ == 1]\n",
    "print(\", \".join(map(str, params)))\n",
    "population = float(solution_general(*params))\n",
    "death = float(get_death_time_general(*params))\n",
    "span = (t, 0, death * 2)\n",
    "sum([plot(population, span, color=\"purple\"),\n",
    "     line([(death, 0), (death, population)], color=\"purple\"),\n",
    "     #plot(max(A.substitute(t==death, *params),B.substitute(t==death, *params)), span, color=\"green\"),\n",
    "     #plot(solution2(*params), span, color=\"yellow\"),\n",
    "     plot(A.substitute(*params), span, color=\"red\"),\n",
    "     plot(B.substitute(*params), span, color=\"blue\")])"
   ]
  },
  {
   "cell_type": "markdown",
   "metadata": {},
   "source": [
    "### Let's check conditions of winning\n",
    "$$ a\\sqrt{α} + \\frac{λ}{\\sqrt{α}} > b\\sqrt{β} + \\frac{μ}{\\sqrt{β}} $$"
   ]
  },
  {
   "cell_type": "code",
   "execution_count": null,
   "metadata": {},
   "outputs": [],
   "source": [
    "def get_winner(params):\n",
    "    symbol_t = symbolic_expression(\"t\")\n",
    "    t, dt = 0, 0.0005\n",
    "    while A.substitute(*params, symbol_t==t) > 0 and B.substitute(*params, symbol_t==t) > 0:\n",
    "        t += dt\n",
    "        dt *= 1.001\n",
    "    return bool(A.substitute(*params, symbol_t==t) > 0)"
   ]
  },
  {
   "cell_type": "code",
   "execution_count": null,
   "metadata": {},
   "outputs": [],
   "source": [
    "def winner_determinant1(params):\n",
    "    a, b, α, β, λ, μ = parse_assignments(params)\n",
    "    return bool(a*α^0.5 + λ/α^0.5 > b*β^0.5 + μ/β^0.5)"
   ]
  },
  {
   "cell_type": "code",
   "execution_count": null,
   "metadata": {},
   "outputs": [],
   "source": [
    "def winner_determinant2(params):\n",
    "    a, b, α, β, λ, μ = parse_assignments(params)\n",
    "    return bool(a*(a*α + 2*λ) > b*(b*β + 2*μ))"
   ]
  },
  {
   "cell_type": "code",
   "execution_count": null,
   "metadata": {},
   "outputs": [],
   "source": [
    "f = winner_determinant2\n",
    "errors, correct, n = 0, 0, 1000\n",
    "for _ in range(2**8):\n",
    "    params = [a==r(1, n), α==r(1, n), λ==r(1, n), b==r(1, n), β==r(1, n), μ==r(1, n)]\n",
    "    try:\n",
    "        #L = ((a*α^0.5 + λ/α^0.5)^2 - (b*β^0.5 + μ/β^0.5)^2 + (μ/β^0.5))^0.5 - μ/β^0.5\n",
    "        #L = float(L / ((a*α^0.5 + λ/α^0.5) - (b*β^0.5 + μ/β^0.5)))\n",
    "        #R = λ/α^0.5 - ((b*β^0.5 + μ/β^0.5)^2 - (a*α^0.5 + λ/α^0.5)^2 + (λ/α^0.5))^0.5\n",
    "        if f(params) == get_winner(params):\n",
    "            correct += 1\n",
    "        else:\n",
    "            print(\"\\nCounterexample: \" + \", \".join(map(str, params)))\n",
    "            break\n",
    "    except Exception as e:\n",
    "        print(e)\n",
    "        errors += 1\n",
    "    print(f\"\\rerrors: {errors:<3} correct: {correct:<3}\", end=\"\")"
   ]
  },
  {
   "cell_type": "markdown",
   "metadata": {},
   "source": [
    "So the winner determinant was obtained purely experimentally:\n",
    "\n",
    "$$ a {\\left(a α + 2 \\, λ\\right)} > b {\\left(b β + 2 \\, μ\\right)} $$"
   ]
  },
  {
   "cell_type": "code",
   "execution_count": null,
   "metadata": {},
   "outputs": [],
   "source": [
    "def det_death_time_general_of_looser(*params):\n",
    "    a, b, α, β, λ, μ = parse_assignments(params)\n",
    "    if a*(a*α + 2*λ) > b*(b*β + 2*μ): a, b, α, β, λ, μ = b, a, β, α, μ, λ\n",
    "    A, B = a*(a*α + 2*λ), b*(b*β + 2*μ)\n",
    "    n = sqrt(A - B + λ^2/α) - μ/sqrt(β)\n",
    "    d = (a*sqrt(α) + λ/sqrt(α)) - (b*sqrt(β)  + μ/sqrt(β))\n",
    "    return ln(n / d) / sqrt(α * β)\n",
    "\n",
    "errors, correct, n = 0, 0, 16\n",
    "for _ in range(10**4):\n",
    "    params = [a==r(1, n), α==r(1, n), λ==r(1, n), b==r(1, n), β==r(1, n), μ==r(1, n)]\n",
    "    try:\n",
    "        t_win = float(get_death_time_general(*params))\n",
    "        t_los = float(det_death_time_general_of_looser(*params))\n",
    "        if t_win <= t_los:\n",
    "            correct += 1\n",
    "        else:\n",
    "            print(\"\\nCounterexample: \" + \", \".join(map(str, params)))\n",
    "            print()\n",
    "            break\n",
    "    except Exception as e:\n",
    "        errors += 1\n",
    "    print(f\"\\rerrors: {errors:<3} correct: {correct:<3}\", end=\"\")"
   ]
  },
  {
   "cell_type": "code",
   "execution_count": null,
   "metadata": {},
   "outputs": [],
   "source": [
    "def f(params, cond):\n",
    "    a, b, α, β, λ, μ = parse_assignments(params)\n",
    "    if cond: a, b, α, β, λ, μ = b, a, β, α, μ, λ\n",
    "    A, B = a*(a*α + 2*λ), b*(b*β + 2*μ)\n",
    "    n = sqrt(A - B + λ^2/α) - μ/sqrt(β)\n",
    "    d = (a*sqrt(α) + λ/sqrt(α)) - (b*sqrt(β)  + μ/sqrt(β))\n",
    "    return ln(n / d) / sqrt(α * β)"
   ]
  },
  {
   "cell_type": "code",
   "execution_count": null,
   "metadata": {},
   "outputs": [],
   "source": [
    "params = [a==a, α==α, λ==λ, b==b, β==β, μ==μ]\n",
    "solve(f(params, True) < f(params, False), a, α, λ, b, β, μ)"
   ]
  },
  {
   "cell_type": "code",
   "execution_count": null,
   "metadata": {},
   "outputs": [],
   "source": [
    "sum([plot(diff(A, t).substitute(*params), span, color=\"blue\"),\n",
    "     plot(diff(B, t).substitute(*params), span, color=\"red\")])"
   ]
  },
  {
   "cell_type": "code",
   "execution_count": null,
   "metadata": {},
   "outputs": [],
   "source": [
    "A(t)"
   ]
  },
  {
   "cell_type": "code",
   "execution_count": null,
   "metadata": {},
   "outputs": [],
   "source": [
    "Ax = (a + λ/α)*(x + 1/x)/2 - (b*sqrt(β/α) + μ/sqrt(α*β))*(x-1/x)/2 - λ/α\n",
    "Bx = (b + μ/β)*(x+1/x)/2- (a*sqrt(α/β) + λ/sqrt(α*β))*(x-1/x)/2 - μ/β\n",
    "solutions = solve(Ax == 0, x)\n",
    "solutions"
   ]
  },
  {
   "cell_type": "code",
   "execution_count": null,
   "metadata": {},
   "outputs": [],
   "source": [
    "bool((Ax.substitute(solutions[0]) == 0).expand())"
   ]
  },
  {
   "cell_type": "code",
   "execution_count": null,
   "metadata": {},
   "outputs": [],
   "source": [
    "# general case \n",
    "for sol in solutions:\n",
    "    sol.show()"
   ]
  },
  {
   "cell_type": "code",
   "execution_count": null,
   "metadata": {},
   "outputs": [],
   "source": [
    "# special case with zero support \n",
    "for sol in solutions:\n",
    "    sol.substitute(λ==0, μ==0).show()"
   ]
  },
  {
   "cell_type": "code",
   "execution_count": null,
   "metadata": {},
   "outputs": [],
   "source": [
    "(symbolic_expression(\"B\") == Bx.substitute(solutions[0]).substitute(λ==0, μ==0).expand().simplify_full()).show()\n",
    "(symbolic_expression(\"B\") == b * sqrt(1 - (α*a^2)/(β*b^2))).show()"
   ]
  },
  {
   "cell_type": "code",
   "execution_count": null,
   "metadata": {},
   "outputs": [],
   "source": [
    "((Bx.substitute(solutions[0]).substitute(λ == 0, μ == 0).expand().simplify_full() ^ 2\n",
    "    == (b * sqrt(1 - (α * a ^ 2) / (β * b ^ 2))) ^ 2)\n",
    "    .expand().simplify_full().show())"
   ]
  },
  {
   "cell_type": "code",
   "execution_count": null,
   "metadata": {},
   "outputs": [],
   "source": [
    "(Ax.substitute(solutions[0]) == Ax.substitute(solutions[0]).simplify_full()).show()"
   ]
  }
 ],
 "metadata": {
  "kernelspec": {
   "display_name": "SageMath 9.6",
   "language": "sage",
   "name": "sagemath"
  },
  "language_info": {
   "codemirror_mode": {
    "name": "ipython",
    "version": 3
   },
   "file_extension": ".py",
   "mimetype": "text/x-python",
   "name": "python",
   "nbconvert_exporter": "python",
   "pygments_lexer": "ipython3",
   "version": "3.10.5"
  }
 },
 "nbformat": 4,
 "nbformat_minor": 5
}
